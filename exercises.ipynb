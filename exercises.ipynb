{
 "cells": [
  {
   "cell_type": "code",
   "execution_count": 1,
   "metadata": {},
   "outputs": [],
   "source": [
    "#https://www.machinelearningplus.com/python/101-pandas-exercises-python/\n",
    "# 101 Pandas Exercises for Data Analysis"
   ]
  },
  {
   "cell_type": "code",
   "execution_count": 4,
   "metadata": {},
   "outputs": [],
   "source": [
    "# 1. Importing pandas and checking the version\n",
    "\n",
    "import pandas as pd \n",
    "pd.__version_\n",
    "#print(pd.show_versions(as_json=True))"
   ]
  },
  {
   "cell_type": "code",
   "execution_count": null,
   "metadata": {},
   "outputs": [],
   "source": [
    "# 2. Creating a series from a list, numpy array and dict\n",
    "\n",
    "#Inputs:\n",
    "\n",
    "import numpy as np\n",
    "mylist = list('abcdefghijklmnopqrstuvwxyz')\n",
    "myarr = np.arange(1, 26)\n",
    "mydict = dict(zip(mylist, myarr))\n",
    "\n",
    "#Solution:\n",
    "\n",
    "import pandas as pd\n",
    "series = pd.Series(mydict)\n",
    "series"
   ]
  },
  {
   "cell_type": "code",
   "execution_count": null,
   "metadata": {},
   "outputs": [],
   "source": [
    "# 3. Converting the index of a series into a column of a dataframe\n",
    "\n",
    "#Inputs:\n",
    "\n",
    "import numpy as np\n",
    "mylist = list('abcdefghijklmnopwrstuvwxyz')\n",
    "myarr = np.arange(1, 26)\n",
    "mydict = dict(zip(mylist, myarr))\n",
    "series = pd.Series(mydict)\n",
    "\n",
    "#Solution: \n",
    "\n",
    "#Convert the series 'series' into a dataframe with its index as another column on the dataframe\n",
    "df = series.to_frame().reset_index()\n",
    "\n",
    "#Print the first 5 rows\n",
    "df.head()\n"
   ]
  },
  {
   "cell_type": "code",
   "execution_count": null,
   "metadata": {},
   "outputs": [],
   "source": [
    "# 4. Combining multiple series to form a dataframe\n",
    "\n",
    "# Input:\n",
    "\n",
    "import numpy as np\n",
    "\n",
    "series_one = pd.Series(list('abcdefghijklmnopqrstuvwxyz'))\n",
    "series_two = pd.Series(np.arange(1, 26))\n",
    "\n",
    "# Solution: \n",
    "\n",
    "#Error\n",
    "#df = pd.DataFrame(series_one + series_two)\n",
    "\n",
    "#Solution 1\n",
    "df = pd.concat([series_one, series_two], axis=1)\n",
    "\n",
    "#Solution 2\n",
    "df = pd.DataFrame({'0': series_one, '1': series_two})\n",
    "\n",
    "df\n"
   ]
  },
  {
   "cell_type": "code",
   "execution_count": null,
   "metadata": {},
   "outputs": [],
   "source": [
    "# 5. Assigning name to a series index\n",
    "\n",
    "#Input\n",
    "\n",
    "import pandas as pd\n",
    "\n",
    "series = pd.Series(list('abcdefghijklmnopqrstuvwxyz'))\n",
    "\n",
    "#Solutions\n",
    "\n",
    "series.name = 'alphabets'\n",
    "series.head()\n"
   ]
  },
  {
   "cell_type": "code",
   "execution_count": null,
   "metadata": {},
   "outputs": [],
   "source": [
    "# 6. Getting the items series A that is not present in series B\n",
    "\n",
    "import pandas as pd\n",
    "\n",
    "seriesA = pd.Series([1, 2, 3, 4, 5])\n",
    "seriesB = pd.Series([4, 5, 6, 7, 8])\n",
    "\n",
    "#Tilde (~) and .isin() method\n",
    "\n",
    "#Solution:\n",
    "\n",
    "seriesA[~seriesA.isin(seriesB)]"
   ]
  },
  {
   "cell_type": "code",
   "execution_count": null,
   "metadata": {},
   "outputs": [],
   "source": [
    "# 7. Getting the items not common to both series A and series B\n",
    "\n",
    "import pandas as pd\n",
    "import numpy as np\n",
    "\n",
    "seriesA = pd.Series([1, 2, 3, 4, 5])\n",
    "seriesB = pd.Series([4, 5, 6, 7, 8])\n",
    "\n",
    "#Solution:\n",
    "\n",
    "#Union\n",
    "series_u = pd.Series(np.union1d(seriesA, seriesB))\n",
    "\n",
    "#Intersection\n",
    "series_i = pd.Series(np.intersect1d(seriesA, seriesB))\n",
    "\n",
    "#Not Common\n",
    "series_u[~series_u.isin(series_i)] \n",
    "\n",
    "# [4, 5] is in both"
   ]
  },
  {
   "cell_type": "code",
   "execution_count": null,
   "metadata": {},
   "outputs": [],
   "source": [
    "# 8. Getting the minimum, 25th percentile, median, 75th percentile and maximum in a series.\n",
    "\n",
    "import pandas as pd\n",
    "import numpy as np\n",
    "\n",
    "series = pd.Series(np.random.normal(10, 5, 25))\n",
    "\n",
    "#numpy.random.normal (loc, scale, size)\n",
    "#loc --> mean or average\n",
    "#scale --> standard deviation\n",
    "#size --> number of items\n",
    "\n",
    "#state = np.random.RandomState(100) \n",
    "#RandomState --> number of methods for generating a random number\n",
    "#series = pd.Series(state.normal(10, 5, 25)) same as above\n",
    "\n",
    "#Solution:\n",
    "np.percentile(series, q=[0, 25, 50, 75, 100])"
   ]
  },
  {
   "cell_type": "code",
   "execution_count": null,
   "metadata": {},
   "outputs": [],
   "source": [
    "# 9. Get the frequency counts of uniques items of a series\n",
    "\n",
    "import pandas as pd\n",
    "\n",
    "#Input: \n",
    "\n",
    "series = pd.Series(np.take(list('abcdefgh'), np.random.randint(8, size=30)))\n",
    "\n",
    "#Solution:\n",
    "series.value_counts()\n"
   ]
  },
  {
   "cell_type": "code",
   "execution_count": null,
   "metadata": {},
   "outputs": [],
   "source": [
    "# 10. Keeping only the top 2 most frequent values as it is and replace everything else as 'Other'.\n",
    "\n",
    "import numpy as np\n",
    "import pandas as pd\n",
    "\n",
    "# Input\n",
    "np.random.RandomState(100)\n",
    "series = pd.Series(np.random.randint(1, 5, [12]))\n",
    "\n",
    "# Solution\n",
    "print(\"Top 2 Freq:\", series.value_counts())\n",
    "series[~series.isin(series.value_counts().index[:2])] = 'Other'\n",
    "series"
   ]
  }
 ],
 "metadata": {
  "interpreter": {
   "hash": "247ab06e135bb35fa78c5eff31b2a9a0050dcb5fb773c2631d2a29ac689eeccb"
  },
  "kernelspec": {
   "display_name": "Python 3.9.0 64-bit",
   "language": "python",
   "name": "python3"
  },
  "language_info": {
   "codemirror_mode": {
    "name": "ipython",
    "version": 3
   },
   "file_extension": ".py",
   "mimetype": "text/x-python",
   "name": "python",
   "nbconvert_exporter": "python",
   "pygments_lexer": "ipython3",
   "version": "3.9.0"
  },
  "orig_nbformat": 4
 },
 "nbformat": 4,
 "nbformat_minor": 2
}
